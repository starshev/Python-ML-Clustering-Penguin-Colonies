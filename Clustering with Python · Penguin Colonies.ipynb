{
 "cells": [
  {
   "cell_type": "markdown",
   "id": "13c23385",
   "metadata": {},
   "source": [
    " "
   ]
  },
  {
   "cell_type": "markdown",
   "id": "6c977701",
   "metadata": {
    "id": "700acefd-8120-42a9-a650-c610467e2a4c"
   },
   "source": [
    "# Clustering with Python · Penguin Colonies"
   ]
  },
  {
   "cell_type": "markdown",
   "id": "1c1eaabd",
   "metadata": {},
   "source": [
    "Completed by [Anton Starshev](http://linkedin.com/in/starshev) on 09/09/2024"
   ]
  },
  {
   "cell_type": "markdown",
   "id": "78225380",
   "metadata": {},
   "source": [
    "### Context"
   ]
  },
  {
   "cell_type": "markdown",
   "id": "20d4429c",
   "metadata": {},
   "source": [
    "As a consultant for a scientific organization that works to support and sustain penguin colonies, I am tasked with helping other staff members learn more about penguins and confirm if penguins of the same species exhibit different physical characteristics based on sex, regardless their location. In particular, using the k-means clustering technique."
   ]
  },
  {
   "cell_type": "markdown",
   "id": "a60e0b10",
   "metadata": {},
   "source": [
    "### Data"
   ]
  },
  {
   "cell_type": "markdown",
   "id": "3a9af816",
   "metadata": {},
   "source": [
    "The data for this activity is in a spreadsheet called `penguins.csv` that includes datapoints across a sample size of 345 penguins, such as species, island, and sex."
   ]
  },
  {
   "cell_type": "markdown",
   "id": "1ca27820",
   "metadata": {},
   "source": [
    "### Execution"
   ]
  },
  {
   "cell_type": "markdown",
   "id": "58bb5ca2",
   "metadata": {
    "id": "oz38PANKW0ys"
   },
   "source": [
    "Imported libraries."
   ]
  },
  {
   "cell_type": "code",
   "execution_count": 81,
   "id": "58e4827d",
   "metadata": {
    "id": "aacf7b0d-d652-46c4-a9fc-f1ff377bdd0c"
   },
   "outputs": [],
   "source": [
    "import pandas as pd\n",
    "import numpy as np\n",
    "\n",
    "from sklearn.cluster import KMeans\n",
    "from sklearn.metrics import silhouette_score\n",
    "import seaborn as sns\n",
    "import matplotlib.pyplot as plt"
   ]
  },
  {
   "cell_type": "markdown",
   "id": "e1f886a2",
   "metadata": {
    "id": "a60990fd-4723-4a2b-a0db-9dfa6c7c881c"
   },
   "source": [
    "Loaded and saved the data into a variable named `penguins`."
   ]
  },
  {
   "cell_type": "code",
   "execution_count": 2,
   "id": "0796007b",
   "metadata": {
    "id": "80535d2f-8b1a-4715-b07a-f3734d8cc4c5"
   },
   "outputs": [],
   "source": [
    "penguins = pd.read_csv(\"penguins.csv\")"
   ]
  },
  {
   "cell_type": "markdown",
   "id": "da474eb0",
   "metadata": {
    "id": "46448192-f2f8-4f78-9f76-6e4bb699da7b"
   },
   "source": [
    "Reviewed the first 10 rows of data.\n"
   ]
  },
  {
   "cell_type": "code",
   "execution_count": 3,
   "id": "5ea2e101",
   "metadata": {
    "id": "U8JZjN-zJwx6"
   },
   "outputs": [
    {
     "data": {
      "text/html": [
       "<div>\n",
       "<style scoped>\n",
       "    .dataframe tbody tr th:only-of-type {\n",
       "        vertical-align: middle;\n",
       "    }\n",
       "\n",
       "    .dataframe tbody tr th {\n",
       "        vertical-align: top;\n",
       "    }\n",
       "\n",
       "    .dataframe thead th {\n",
       "        text-align: right;\n",
       "    }\n",
       "</style>\n",
       "<table border=\"1\" class=\"dataframe\">\n",
       "  <thead>\n",
       "    <tr style=\"text-align: right;\">\n",
       "      <th></th>\n",
       "      <th>species</th>\n",
       "      <th>island</th>\n",
       "      <th>bill_length_mm</th>\n",
       "      <th>bill_depth_mm</th>\n",
       "      <th>flipper_length_mm</th>\n",
       "      <th>body_mass_g</th>\n",
       "      <th>sex</th>\n",
       "    </tr>\n",
       "  </thead>\n",
       "  <tbody>\n",
       "    <tr>\n",
       "      <th>0</th>\n",
       "      <td>Adelie</td>\n",
       "      <td>Torgersen</td>\n",
       "      <td>39.1</td>\n",
       "      <td>18.7</td>\n",
       "      <td>181.0</td>\n",
       "      <td>3750.0</td>\n",
       "      <td>male</td>\n",
       "    </tr>\n",
       "    <tr>\n",
       "      <th>1</th>\n",
       "      <td>Adelie</td>\n",
       "      <td>Torgersen</td>\n",
       "      <td>39.5</td>\n",
       "      <td>17.4</td>\n",
       "      <td>186.0</td>\n",
       "      <td>3800.0</td>\n",
       "      <td>female</td>\n",
       "    </tr>\n",
       "    <tr>\n",
       "      <th>2</th>\n",
       "      <td>Adelie</td>\n",
       "      <td>Torgersen</td>\n",
       "      <td>40.3</td>\n",
       "      <td>18.0</td>\n",
       "      <td>195.0</td>\n",
       "      <td>3250.0</td>\n",
       "      <td>female</td>\n",
       "    </tr>\n",
       "    <tr>\n",
       "      <th>3</th>\n",
       "      <td>Adelie</td>\n",
       "      <td>Torgersen</td>\n",
       "      <td>NaN</td>\n",
       "      <td>NaN</td>\n",
       "      <td>NaN</td>\n",
       "      <td>NaN</td>\n",
       "      <td>NaN</td>\n",
       "    </tr>\n",
       "    <tr>\n",
       "      <th>4</th>\n",
       "      <td>Adelie</td>\n",
       "      <td>Torgersen</td>\n",
       "      <td>36.7</td>\n",
       "      <td>19.3</td>\n",
       "      <td>193.0</td>\n",
       "      <td>3450.0</td>\n",
       "      <td>female</td>\n",
       "    </tr>\n",
       "    <tr>\n",
       "      <th>5</th>\n",
       "      <td>Adelie</td>\n",
       "      <td>Torgersen</td>\n",
       "      <td>39.3</td>\n",
       "      <td>20.6</td>\n",
       "      <td>190.0</td>\n",
       "      <td>3650.0</td>\n",
       "      <td>male</td>\n",
       "    </tr>\n",
       "    <tr>\n",
       "      <th>6</th>\n",
       "      <td>Adelie</td>\n",
       "      <td>Torgersen</td>\n",
       "      <td>38.9</td>\n",
       "      <td>17.8</td>\n",
       "      <td>181.0</td>\n",
       "      <td>3625.0</td>\n",
       "      <td>female</td>\n",
       "    </tr>\n",
       "    <tr>\n",
       "      <th>7</th>\n",
       "      <td>Adelie</td>\n",
       "      <td>Torgersen</td>\n",
       "      <td>39.2</td>\n",
       "      <td>19.6</td>\n",
       "      <td>195.0</td>\n",
       "      <td>4675.0</td>\n",
       "      <td>male</td>\n",
       "    </tr>\n",
       "    <tr>\n",
       "      <th>8</th>\n",
       "      <td>Adelie</td>\n",
       "      <td>Torgersen</td>\n",
       "      <td>34.1</td>\n",
       "      <td>18.1</td>\n",
       "      <td>193.0</td>\n",
       "      <td>3475.0</td>\n",
       "      <td>NaN</td>\n",
       "    </tr>\n",
       "    <tr>\n",
       "      <th>9</th>\n",
       "      <td>Adelie</td>\n",
       "      <td>Torgersen</td>\n",
       "      <td>42.0</td>\n",
       "      <td>20.2</td>\n",
       "      <td>190.0</td>\n",
       "      <td>4250.0</td>\n",
       "      <td>NaN</td>\n",
       "    </tr>\n",
       "  </tbody>\n",
       "</table>\n",
       "</div>"
      ],
      "text/plain": [
       "  species     island  bill_length_mm  bill_depth_mm  flipper_length_mm  \\\n",
       "0  Adelie  Torgersen            39.1           18.7              181.0   \n",
       "1  Adelie  Torgersen            39.5           17.4              186.0   \n",
       "2  Adelie  Torgersen            40.3           18.0              195.0   \n",
       "3  Adelie  Torgersen             NaN            NaN                NaN   \n",
       "4  Adelie  Torgersen            36.7           19.3              193.0   \n",
       "5  Adelie  Torgersen            39.3           20.6              190.0   \n",
       "6  Adelie  Torgersen            38.9           17.8              181.0   \n",
       "7  Adelie  Torgersen            39.2           19.6              195.0   \n",
       "8  Adelie  Torgersen            34.1           18.1              193.0   \n",
       "9  Adelie  Torgersen            42.0           20.2              190.0   \n",
       "\n",
       "   body_mass_g     sex  \n",
       "0       3750.0    male  \n",
       "1       3800.0  female  \n",
       "2       3250.0  female  \n",
       "3          NaN     NaN  \n",
       "4       3450.0  female  \n",
       "5       3650.0    male  \n",
       "6       3625.0  female  \n",
       "7       4675.0    male  \n",
       "8       3475.0     NaN  \n",
       "9       4250.0     NaN  "
      ]
     },
     "execution_count": 3,
     "metadata": {},
     "output_type": "execute_result"
    }
   ],
   "source": [
    "penguins.head(10)"
   ]
  },
  {
   "cell_type": "markdown",
   "id": "e11db4bc",
   "metadata": {
    "id": "d7ccd368"
   },
   "source": [
    "To cluster penguins of multiple different species, determined how many different types of penguin species are in the dataset."
   ]
  },
  {
   "cell_type": "code",
   "execution_count": 17,
   "id": "feb583d6",
   "metadata": {
    "id": "8098d8a3"
   },
   "outputs": [
    {
     "data": {
      "text/plain": [
       "3"
      ]
     },
     "execution_count": 17,
     "metadata": {},
     "output_type": "execute_result"
    }
   ],
   "source": [
    "len(penguins.species.unique())"
   ]
  },
  {
   "cell_type": "markdown",
   "id": "0337d8ec",
   "metadata": {},
   "source": [
    "Found the count of each species type."
   ]
  },
  {
   "cell_type": "code",
   "execution_count": 16,
   "id": "21dcbc2d",
   "metadata": {
    "id": "1730341a"
   },
   "outputs": [
    {
     "data": {
      "text/plain": [
       "Adelie       152\n",
       "Gentoo       124\n",
       "Chinstrap     68\n",
       "Name: species, dtype: int64"
      ]
     },
     "execution_count": 16,
     "metadata": {},
     "output_type": "execute_result"
    }
   ],
   "source": [
    "penguins.species.value_counts()"
   ]
  },
  {
   "cell_type": "markdown",
   "id": "807b4a6e",
   "metadata": {
    "id": "a2ae00e8"
   },
   "source": [
    "**Observation:** There are 3 types of species. The Chinstrap species is less common than the other species, which may have an affect on K-means clustering."
   ]
  },
  {
   "cell_type": "markdown",
   "id": "3aa4ac8c",
   "metadata": {
    "id": "TgANHJBVxpbI"
   },
   "source": [
    "Since an assumption of k-means is that there are no missing values, checked for missing values in the rows of the data. "
   ]
  },
  {
   "cell_type": "code",
   "execution_count": 38,
   "id": "7a28a337",
   "metadata": {
    "id": "3_SVlY1VpY4h"
   },
   "outputs": [
    {
     "data": {
      "text/plain": [
       "species               0\n",
       "island                0\n",
       "bill_length_mm        2\n",
       "bill_depth_mm         2\n",
       "flipper_length_mm     2\n",
       "body_mass_g           2\n",
       "sex                  11\n",
       "dtype: int64"
      ]
     },
     "execution_count": 38,
     "metadata": {},
     "output_type": "execute_result"
    }
   ],
   "source": [
    "penguins.isnull().sum()"
   ]
  },
  {
   "cell_type": "markdown",
   "id": "c91889c7",
   "metadata": {
    "id": "eb005a73-4621-45b9-8114-30472ce20327"
   },
   "source": [
    "Dropped the rows with missing values and saved the resulting pandas DataFrame in a variable named `penguins_subset`."
   ]
  },
  {
   "cell_type": "code",
   "execution_count": 39,
   "id": "523abff9",
   "metadata": {
    "id": "1cee438e-8b1f-4855-855e-3723d1958b69"
   },
   "outputs": [],
   "source": [
    "penguins_subset = penguins.dropna().reset_index(drop = True)"
   ]
  },
  {
   "cell_type": "markdown",
   "id": "10304eaa",
   "metadata": {
    "id": "ymfmX-WvW31z"
   },
   "source": [
    "Next, checked to make sure that `penguins_subset` does not contain any missing values."
   ]
  },
  {
   "cell_type": "code",
   "execution_count": 40,
   "id": "78291c8c",
   "metadata": {
    "id": "n36d4yztW4BA"
   },
   "outputs": [
    {
     "data": {
      "text/plain": [
       "species              0\n",
       "island               0\n",
       "bill_length_mm       0\n",
       "bill_depth_mm        0\n",
       "flipper_length_mm    0\n",
       "body_mass_g          0\n",
       "sex                  0\n",
       "dtype: int64"
      ]
     },
     "execution_count": 40,
     "metadata": {},
     "output_type": "execute_result"
    }
   ],
   "source": [
    "penguins_subset.isnull().sum()"
   ]
  },
  {
   "cell_type": "markdown",
   "id": "b4ab6ca6",
   "metadata": {
    "id": "0021b18e-4c93-4628-8d0d-2c55a98cc691"
   },
   "source": [
    "Now, reviewed the first 10 rows of the subset."
   ]
  },
  {
   "cell_type": "code",
   "execution_count": 41,
   "id": "06a2d6ce",
   "metadata": {
    "id": "a58b4d77-6023-428d-89aa-4d2ac52003dc"
   },
   "outputs": [
    {
     "data": {
      "text/html": [
       "<div>\n",
       "<style scoped>\n",
       "    .dataframe tbody tr th:only-of-type {\n",
       "        vertical-align: middle;\n",
       "    }\n",
       "\n",
       "    .dataframe tbody tr th {\n",
       "        vertical-align: top;\n",
       "    }\n",
       "\n",
       "    .dataframe thead th {\n",
       "        text-align: right;\n",
       "    }\n",
       "</style>\n",
       "<table border=\"1\" class=\"dataframe\">\n",
       "  <thead>\n",
       "    <tr style=\"text-align: right;\">\n",
       "      <th></th>\n",
       "      <th>species</th>\n",
       "      <th>island</th>\n",
       "      <th>bill_length_mm</th>\n",
       "      <th>bill_depth_mm</th>\n",
       "      <th>flipper_length_mm</th>\n",
       "      <th>body_mass_g</th>\n",
       "      <th>sex</th>\n",
       "    </tr>\n",
       "  </thead>\n",
       "  <tbody>\n",
       "    <tr>\n",
       "      <th>0</th>\n",
       "      <td>Adelie</td>\n",
       "      <td>Torgersen</td>\n",
       "      <td>39.1</td>\n",
       "      <td>18.7</td>\n",
       "      <td>181.0</td>\n",
       "      <td>3750.0</td>\n",
       "      <td>male</td>\n",
       "    </tr>\n",
       "    <tr>\n",
       "      <th>1</th>\n",
       "      <td>Adelie</td>\n",
       "      <td>Torgersen</td>\n",
       "      <td>39.5</td>\n",
       "      <td>17.4</td>\n",
       "      <td>186.0</td>\n",
       "      <td>3800.0</td>\n",
       "      <td>female</td>\n",
       "    </tr>\n",
       "    <tr>\n",
       "      <th>2</th>\n",
       "      <td>Adelie</td>\n",
       "      <td>Torgersen</td>\n",
       "      <td>40.3</td>\n",
       "      <td>18.0</td>\n",
       "      <td>195.0</td>\n",
       "      <td>3250.0</td>\n",
       "      <td>female</td>\n",
       "    </tr>\n",
       "    <tr>\n",
       "      <th>3</th>\n",
       "      <td>Adelie</td>\n",
       "      <td>Torgersen</td>\n",
       "      <td>36.7</td>\n",
       "      <td>19.3</td>\n",
       "      <td>193.0</td>\n",
       "      <td>3450.0</td>\n",
       "      <td>female</td>\n",
       "    </tr>\n",
       "    <tr>\n",
       "      <th>4</th>\n",
       "      <td>Adelie</td>\n",
       "      <td>Torgersen</td>\n",
       "      <td>39.3</td>\n",
       "      <td>20.6</td>\n",
       "      <td>190.0</td>\n",
       "      <td>3650.0</td>\n",
       "      <td>male</td>\n",
       "    </tr>\n",
       "    <tr>\n",
       "      <th>5</th>\n",
       "      <td>Adelie</td>\n",
       "      <td>Torgersen</td>\n",
       "      <td>38.9</td>\n",
       "      <td>17.8</td>\n",
       "      <td>181.0</td>\n",
       "      <td>3625.0</td>\n",
       "      <td>female</td>\n",
       "    </tr>\n",
       "    <tr>\n",
       "      <th>6</th>\n",
       "      <td>Adelie</td>\n",
       "      <td>Torgersen</td>\n",
       "      <td>39.2</td>\n",
       "      <td>19.6</td>\n",
       "      <td>195.0</td>\n",
       "      <td>4675.0</td>\n",
       "      <td>male</td>\n",
       "    </tr>\n",
       "    <tr>\n",
       "      <th>7</th>\n",
       "      <td>Adelie</td>\n",
       "      <td>Torgersen</td>\n",
       "      <td>41.1</td>\n",
       "      <td>17.6</td>\n",
       "      <td>182.0</td>\n",
       "      <td>3200.0</td>\n",
       "      <td>female</td>\n",
       "    </tr>\n",
       "    <tr>\n",
       "      <th>8</th>\n",
       "      <td>Adelie</td>\n",
       "      <td>Torgersen</td>\n",
       "      <td>38.6</td>\n",
       "      <td>21.2</td>\n",
       "      <td>191.0</td>\n",
       "      <td>3800.0</td>\n",
       "      <td>male</td>\n",
       "    </tr>\n",
       "    <tr>\n",
       "      <th>9</th>\n",
       "      <td>Adelie</td>\n",
       "      <td>Torgersen</td>\n",
       "      <td>34.6</td>\n",
       "      <td>21.1</td>\n",
       "      <td>198.0</td>\n",
       "      <td>4400.0</td>\n",
       "      <td>male</td>\n",
       "    </tr>\n",
       "  </tbody>\n",
       "</table>\n",
       "</div>"
      ],
      "text/plain": [
       "  species     island  bill_length_mm  bill_depth_mm  flipper_length_mm  \\\n",
       "0  Adelie  Torgersen            39.1           18.7              181.0   \n",
       "1  Adelie  Torgersen            39.5           17.4              186.0   \n",
       "2  Adelie  Torgersen            40.3           18.0              195.0   \n",
       "3  Adelie  Torgersen            36.7           19.3              193.0   \n",
       "4  Adelie  Torgersen            39.3           20.6              190.0   \n",
       "5  Adelie  Torgersen            38.9           17.8              181.0   \n",
       "6  Adelie  Torgersen            39.2           19.6              195.0   \n",
       "7  Adelie  Torgersen            41.1           17.6              182.0   \n",
       "8  Adelie  Torgersen            38.6           21.2              191.0   \n",
       "9  Adelie  Torgersen            34.6           21.1              198.0   \n",
       "\n",
       "   body_mass_g     sex  \n",
       "0       3750.0    male  \n",
       "1       3800.0  female  \n",
       "2       3250.0  female  \n",
       "3       3450.0  female  \n",
       "4       3650.0    male  \n",
       "5       3625.0  female  \n",
       "6       4675.0    male  \n",
       "7       3200.0  female  \n",
       "8       3800.0    male  \n",
       "9       4400.0    male  "
      ]
     },
     "execution_count": 41,
     "metadata": {},
     "output_type": "execute_result"
    }
   ],
   "source": [
    "penguins_subset.head(10)"
   ]
  },
  {
   "cell_type": "markdown",
   "id": "78fae063",
   "metadata": {
    "id": "d491a508"
   },
   "source": [
    "Since some versions of the penguins dataset have values encoded in the sex column as 'Male' and 'Female' instead of 'MALE' and 'FEMALE', made it sure that all values are ALL CAPS. \n"
   ]
  },
  {
   "cell_type": "code",
   "execution_count": 42,
   "id": "66d31778",
   "metadata": {
    "id": "ofs1fqq9HQ-2"
   },
   "outputs": [],
   "source": [
    "penguins_subset['sex'] = penguins_subset['sex'].str.upper()"
   ]
  },
  {
   "cell_type": "markdown",
   "id": "f377df51",
   "metadata": {
    "id": "EO5fqIwUHOmi"
   },
   "source": [
    "Since k-means needs numeric columns for clustering, converted the categorical column `sex` into numeric."
   ]
  },
  {
   "cell_type": "code",
   "execution_count": 43,
   "id": "558add08",
   "metadata": {
    "id": "U833roOu1Qf9"
   },
   "outputs": [
    {
     "data": {
      "text/html": [
       "<div>\n",
       "<style scoped>\n",
       "    .dataframe tbody tr th:only-of-type {\n",
       "        vertical-align: middle;\n",
       "    }\n",
       "\n",
       "    .dataframe tbody tr th {\n",
       "        vertical-align: top;\n",
       "    }\n",
       "\n",
       "    .dataframe thead th {\n",
       "        text-align: right;\n",
       "    }\n",
       "</style>\n",
       "<table border=\"1\" class=\"dataframe\">\n",
       "  <thead>\n",
       "    <tr style=\"text-align: right;\">\n",
       "      <th></th>\n",
       "      <th>species</th>\n",
       "      <th>island</th>\n",
       "      <th>bill_length_mm</th>\n",
       "      <th>bill_depth_mm</th>\n",
       "      <th>flipper_length_mm</th>\n",
       "      <th>body_mass_g</th>\n",
       "      <th>sex</th>\n",
       "      <th>MALE</th>\n",
       "    </tr>\n",
       "  </thead>\n",
       "  <tbody>\n",
       "    <tr>\n",
       "      <th>0</th>\n",
       "      <td>Adelie</td>\n",
       "      <td>Torgersen</td>\n",
       "      <td>39.1</td>\n",
       "      <td>18.7</td>\n",
       "      <td>181.0</td>\n",
       "      <td>3750.0</td>\n",
       "      <td>MALE</td>\n",
       "      <td>1</td>\n",
       "    </tr>\n",
       "    <tr>\n",
       "      <th>1</th>\n",
       "      <td>Adelie</td>\n",
       "      <td>Torgersen</td>\n",
       "      <td>39.5</td>\n",
       "      <td>17.4</td>\n",
       "      <td>186.0</td>\n",
       "      <td>3800.0</td>\n",
       "      <td>FEMALE</td>\n",
       "      <td>0</td>\n",
       "    </tr>\n",
       "    <tr>\n",
       "      <th>2</th>\n",
       "      <td>Adelie</td>\n",
       "      <td>Torgersen</td>\n",
       "      <td>40.3</td>\n",
       "      <td>18.0</td>\n",
       "      <td>195.0</td>\n",
       "      <td>3250.0</td>\n",
       "      <td>FEMALE</td>\n",
       "      <td>0</td>\n",
       "    </tr>\n",
       "    <tr>\n",
       "      <th>3</th>\n",
       "      <td>Adelie</td>\n",
       "      <td>Torgersen</td>\n",
       "      <td>36.7</td>\n",
       "      <td>19.3</td>\n",
       "      <td>193.0</td>\n",
       "      <td>3450.0</td>\n",
       "      <td>FEMALE</td>\n",
       "      <td>0</td>\n",
       "    </tr>\n",
       "    <tr>\n",
       "      <th>4</th>\n",
       "      <td>Adelie</td>\n",
       "      <td>Torgersen</td>\n",
       "      <td>39.3</td>\n",
       "      <td>20.6</td>\n",
       "      <td>190.0</td>\n",
       "      <td>3650.0</td>\n",
       "      <td>MALE</td>\n",
       "      <td>1</td>\n",
       "    </tr>\n",
       "    <tr>\n",
       "      <th>...</th>\n",
       "      <td>...</td>\n",
       "      <td>...</td>\n",
       "      <td>...</td>\n",
       "      <td>...</td>\n",
       "      <td>...</td>\n",
       "      <td>...</td>\n",
       "      <td>...</td>\n",
       "      <td>...</td>\n",
       "    </tr>\n",
       "    <tr>\n",
       "      <th>328</th>\n",
       "      <td>Gentoo</td>\n",
       "      <td>Biscoe</td>\n",
       "      <td>47.2</td>\n",
       "      <td>13.7</td>\n",
       "      <td>214.0</td>\n",
       "      <td>4925.0</td>\n",
       "      <td>FEMALE</td>\n",
       "      <td>0</td>\n",
       "    </tr>\n",
       "    <tr>\n",
       "      <th>329</th>\n",
       "      <td>Gentoo</td>\n",
       "      <td>Biscoe</td>\n",
       "      <td>46.8</td>\n",
       "      <td>14.3</td>\n",
       "      <td>215.0</td>\n",
       "      <td>4850.0</td>\n",
       "      <td>FEMALE</td>\n",
       "      <td>0</td>\n",
       "    </tr>\n",
       "    <tr>\n",
       "      <th>330</th>\n",
       "      <td>Gentoo</td>\n",
       "      <td>Biscoe</td>\n",
       "      <td>50.4</td>\n",
       "      <td>15.7</td>\n",
       "      <td>222.0</td>\n",
       "      <td>5750.0</td>\n",
       "      <td>MALE</td>\n",
       "      <td>1</td>\n",
       "    </tr>\n",
       "    <tr>\n",
       "      <th>331</th>\n",
       "      <td>Gentoo</td>\n",
       "      <td>Biscoe</td>\n",
       "      <td>45.2</td>\n",
       "      <td>14.8</td>\n",
       "      <td>212.0</td>\n",
       "      <td>5200.0</td>\n",
       "      <td>FEMALE</td>\n",
       "      <td>0</td>\n",
       "    </tr>\n",
       "    <tr>\n",
       "      <th>332</th>\n",
       "      <td>Gentoo</td>\n",
       "      <td>Biscoe</td>\n",
       "      <td>49.9</td>\n",
       "      <td>16.1</td>\n",
       "      <td>213.0</td>\n",
       "      <td>5400.0</td>\n",
       "      <td>MALE</td>\n",
       "      <td>1</td>\n",
       "    </tr>\n",
       "  </tbody>\n",
       "</table>\n",
       "<p>333 rows × 8 columns</p>\n",
       "</div>"
      ],
      "text/plain": [
       "    species     island  bill_length_mm  bill_depth_mm  flipper_length_mm  \\\n",
       "0    Adelie  Torgersen            39.1           18.7              181.0   \n",
       "1    Adelie  Torgersen            39.5           17.4              186.0   \n",
       "2    Adelie  Torgersen            40.3           18.0              195.0   \n",
       "3    Adelie  Torgersen            36.7           19.3              193.0   \n",
       "4    Adelie  Torgersen            39.3           20.6              190.0   \n",
       "..      ...        ...             ...            ...                ...   \n",
       "328  Gentoo     Biscoe            47.2           13.7              214.0   \n",
       "329  Gentoo     Biscoe            46.8           14.3              215.0   \n",
       "330  Gentoo     Biscoe            50.4           15.7              222.0   \n",
       "331  Gentoo     Biscoe            45.2           14.8              212.0   \n",
       "332  Gentoo     Biscoe            49.9           16.1              213.0   \n",
       "\n",
       "     body_mass_g     sex  MALE  \n",
       "0         3750.0    MALE     1  \n",
       "1         3800.0  FEMALE     0  \n",
       "2         3250.0  FEMALE     0  \n",
       "3         3450.0  FEMALE     0  \n",
       "4         3650.0    MALE     1  \n",
       "..           ...     ...   ...  \n",
       "328       4925.0  FEMALE     0  \n",
       "329       4850.0  FEMALE     0  \n",
       "330       5750.0    MALE     1  \n",
       "331       5200.0  FEMALE     0  \n",
       "332       5400.0    MALE     1  \n",
       "\n",
       "[333 rows x 8 columns]"
      ]
     },
     "execution_count": 43,
     "metadata": {},
     "output_type": "execute_result"
    }
   ],
   "source": [
    "dummy_df = pd.get_dummies(penguins_subset['sex'], drop_first = True)\n",
    "penguins_subset = pd.concat([penguins_subset, dummy_df], axis = 1)\n",
    "\n",
    "penguins_subset"
   ]
  },
  {
   "cell_type": "markdown",
   "id": "f53fa040",
   "metadata": {
    "id": "725cc2b0"
   },
   "source": [
    "Dropped the unused categorical column `island` and original `sex` column from the dataset."
   ]
  },
  {
   "cell_type": "code",
   "execution_count": 44,
   "id": "986c3878",
   "metadata": {
    "id": "841986cc"
   },
   "outputs": [
    {
     "data": {
      "text/html": [
       "<div>\n",
       "<style scoped>\n",
       "    .dataframe tbody tr th:only-of-type {\n",
       "        vertical-align: middle;\n",
       "    }\n",
       "\n",
       "    .dataframe tbody tr th {\n",
       "        vertical-align: top;\n",
       "    }\n",
       "\n",
       "    .dataframe thead th {\n",
       "        text-align: right;\n",
       "    }\n",
       "</style>\n",
       "<table border=\"1\" class=\"dataframe\">\n",
       "  <thead>\n",
       "    <tr style=\"text-align: right;\">\n",
       "      <th></th>\n",
       "      <th>species</th>\n",
       "      <th>bill_length_mm</th>\n",
       "      <th>bill_depth_mm</th>\n",
       "      <th>flipper_length_mm</th>\n",
       "      <th>body_mass_g</th>\n",
       "      <th>MALE</th>\n",
       "    </tr>\n",
       "  </thead>\n",
       "  <tbody>\n",
       "    <tr>\n",
       "      <th>0</th>\n",
       "      <td>Adelie</td>\n",
       "      <td>39.1</td>\n",
       "      <td>18.7</td>\n",
       "      <td>181.0</td>\n",
       "      <td>3750.0</td>\n",
       "      <td>1</td>\n",
       "    </tr>\n",
       "    <tr>\n",
       "      <th>1</th>\n",
       "      <td>Adelie</td>\n",
       "      <td>39.5</td>\n",
       "      <td>17.4</td>\n",
       "      <td>186.0</td>\n",
       "      <td>3800.0</td>\n",
       "      <td>0</td>\n",
       "    </tr>\n",
       "    <tr>\n",
       "      <th>2</th>\n",
       "      <td>Adelie</td>\n",
       "      <td>40.3</td>\n",
       "      <td>18.0</td>\n",
       "      <td>195.0</td>\n",
       "      <td>3250.0</td>\n",
       "      <td>0</td>\n",
       "    </tr>\n",
       "    <tr>\n",
       "      <th>3</th>\n",
       "      <td>Adelie</td>\n",
       "      <td>36.7</td>\n",
       "      <td>19.3</td>\n",
       "      <td>193.0</td>\n",
       "      <td>3450.0</td>\n",
       "      <td>0</td>\n",
       "    </tr>\n",
       "    <tr>\n",
       "      <th>4</th>\n",
       "      <td>Adelie</td>\n",
       "      <td>39.3</td>\n",
       "      <td>20.6</td>\n",
       "      <td>190.0</td>\n",
       "      <td>3650.0</td>\n",
       "      <td>1</td>\n",
       "    </tr>\n",
       "    <tr>\n",
       "      <th>...</th>\n",
       "      <td>...</td>\n",
       "      <td>...</td>\n",
       "      <td>...</td>\n",
       "      <td>...</td>\n",
       "      <td>...</td>\n",
       "      <td>...</td>\n",
       "    </tr>\n",
       "    <tr>\n",
       "      <th>328</th>\n",
       "      <td>Gentoo</td>\n",
       "      <td>47.2</td>\n",
       "      <td>13.7</td>\n",
       "      <td>214.0</td>\n",
       "      <td>4925.0</td>\n",
       "      <td>0</td>\n",
       "    </tr>\n",
       "    <tr>\n",
       "      <th>329</th>\n",
       "      <td>Gentoo</td>\n",
       "      <td>46.8</td>\n",
       "      <td>14.3</td>\n",
       "      <td>215.0</td>\n",
       "      <td>4850.0</td>\n",
       "      <td>0</td>\n",
       "    </tr>\n",
       "    <tr>\n",
       "      <th>330</th>\n",
       "      <td>Gentoo</td>\n",
       "      <td>50.4</td>\n",
       "      <td>15.7</td>\n",
       "      <td>222.0</td>\n",
       "      <td>5750.0</td>\n",
       "      <td>1</td>\n",
       "    </tr>\n",
       "    <tr>\n",
       "      <th>331</th>\n",
       "      <td>Gentoo</td>\n",
       "      <td>45.2</td>\n",
       "      <td>14.8</td>\n",
       "      <td>212.0</td>\n",
       "      <td>5200.0</td>\n",
       "      <td>0</td>\n",
       "    </tr>\n",
       "    <tr>\n",
       "      <th>332</th>\n",
       "      <td>Gentoo</td>\n",
       "      <td>49.9</td>\n",
       "      <td>16.1</td>\n",
       "      <td>213.0</td>\n",
       "      <td>5400.0</td>\n",
       "      <td>1</td>\n",
       "    </tr>\n",
       "  </tbody>\n",
       "</table>\n",
       "<p>333 rows × 6 columns</p>\n",
       "</div>"
      ],
      "text/plain": [
       "    species  bill_length_mm  bill_depth_mm  flipper_length_mm  body_mass_g  \\\n",
       "0    Adelie            39.1           18.7              181.0       3750.0   \n",
       "1    Adelie            39.5           17.4              186.0       3800.0   \n",
       "2    Adelie            40.3           18.0              195.0       3250.0   \n",
       "3    Adelie            36.7           19.3              193.0       3450.0   \n",
       "4    Adelie            39.3           20.6              190.0       3650.0   \n",
       "..      ...             ...            ...                ...          ...   \n",
       "328  Gentoo            47.2           13.7              214.0       4925.0   \n",
       "329  Gentoo            46.8           14.3              215.0       4850.0   \n",
       "330  Gentoo            50.4           15.7              222.0       5750.0   \n",
       "331  Gentoo            45.2           14.8              212.0       5200.0   \n",
       "332  Gentoo            49.9           16.1              213.0       5400.0   \n",
       "\n",
       "     MALE  \n",
       "0       1  \n",
       "1       0  \n",
       "2       0  \n",
       "3       0  \n",
       "4       1  \n",
       "..    ...  \n",
       "328     0  \n",
       "329     0  \n",
       "330     1  \n",
       "331     0  \n",
       "332     1  \n",
       "\n",
       "[333 rows x 6 columns]"
      ]
     },
     "execution_count": 44,
     "metadata": {},
     "output_type": "execute_result"
    }
   ],
   "source": [
    "penguins_subset.drop(columns = ['sex', 'island'], axis = 1, inplace = True)\n",
    "\n",
    "penguins_subset"
   ]
  },
  {
   "cell_type": "markdown",
   "id": "0c16dbdb",
   "metadata": {
    "id": "Gqs356GLi-OX"
   },
   "source": [
    "Copied all the features except the `species` column to a DataFrame called `x` for convenience."
   ]
  },
  {
   "cell_type": "code",
   "execution_count": 52,
   "id": "79aea3e6",
   "metadata": {
    "id": "37a93839"
   },
   "outputs": [
    {
     "data": {
      "text/html": [
       "<div>\n",
       "<style scoped>\n",
       "    .dataframe tbody tr th:only-of-type {\n",
       "        vertical-align: middle;\n",
       "    }\n",
       "\n",
       "    .dataframe tbody tr th {\n",
       "        vertical-align: top;\n",
       "    }\n",
       "\n",
       "    .dataframe thead th {\n",
       "        text-align: right;\n",
       "    }\n",
       "</style>\n",
       "<table border=\"1\" class=\"dataframe\">\n",
       "  <thead>\n",
       "    <tr style=\"text-align: right;\">\n",
       "      <th></th>\n",
       "      <th>bill_length_mm</th>\n",
       "      <th>bill_depth_mm</th>\n",
       "      <th>flipper_length_mm</th>\n",
       "      <th>body_mass_g</th>\n",
       "      <th>MALE</th>\n",
       "    </tr>\n",
       "  </thead>\n",
       "  <tbody>\n",
       "    <tr>\n",
       "      <th>0</th>\n",
       "      <td>39.1</td>\n",
       "      <td>18.7</td>\n",
       "      <td>181.0</td>\n",
       "      <td>3750.0</td>\n",
       "      <td>1</td>\n",
       "    </tr>\n",
       "    <tr>\n",
       "      <th>1</th>\n",
       "      <td>39.5</td>\n",
       "      <td>17.4</td>\n",
       "      <td>186.0</td>\n",
       "      <td>3800.0</td>\n",
       "      <td>0</td>\n",
       "    </tr>\n",
       "    <tr>\n",
       "      <th>2</th>\n",
       "      <td>40.3</td>\n",
       "      <td>18.0</td>\n",
       "      <td>195.0</td>\n",
       "      <td>3250.0</td>\n",
       "      <td>0</td>\n",
       "    </tr>\n",
       "    <tr>\n",
       "      <th>3</th>\n",
       "      <td>36.7</td>\n",
       "      <td>19.3</td>\n",
       "      <td>193.0</td>\n",
       "      <td>3450.0</td>\n",
       "      <td>0</td>\n",
       "    </tr>\n",
       "    <tr>\n",
       "      <th>4</th>\n",
       "      <td>39.3</td>\n",
       "      <td>20.6</td>\n",
       "      <td>190.0</td>\n",
       "      <td>3650.0</td>\n",
       "      <td>1</td>\n",
       "    </tr>\n",
       "    <tr>\n",
       "      <th>...</th>\n",
       "      <td>...</td>\n",
       "      <td>...</td>\n",
       "      <td>...</td>\n",
       "      <td>...</td>\n",
       "      <td>...</td>\n",
       "    </tr>\n",
       "    <tr>\n",
       "      <th>328</th>\n",
       "      <td>47.2</td>\n",
       "      <td>13.7</td>\n",
       "      <td>214.0</td>\n",
       "      <td>4925.0</td>\n",
       "      <td>0</td>\n",
       "    </tr>\n",
       "    <tr>\n",
       "      <th>329</th>\n",
       "      <td>46.8</td>\n",
       "      <td>14.3</td>\n",
       "      <td>215.0</td>\n",
       "      <td>4850.0</td>\n",
       "      <td>0</td>\n",
       "    </tr>\n",
       "    <tr>\n",
       "      <th>330</th>\n",
       "      <td>50.4</td>\n",
       "      <td>15.7</td>\n",
       "      <td>222.0</td>\n",
       "      <td>5750.0</td>\n",
       "      <td>1</td>\n",
       "    </tr>\n",
       "    <tr>\n",
       "      <th>331</th>\n",
       "      <td>45.2</td>\n",
       "      <td>14.8</td>\n",
       "      <td>212.0</td>\n",
       "      <td>5200.0</td>\n",
       "      <td>0</td>\n",
       "    </tr>\n",
       "    <tr>\n",
       "      <th>332</th>\n",
       "      <td>49.9</td>\n",
       "      <td>16.1</td>\n",
       "      <td>213.0</td>\n",
       "      <td>5400.0</td>\n",
       "      <td>1</td>\n",
       "    </tr>\n",
       "  </tbody>\n",
       "</table>\n",
       "<p>333 rows × 5 columns</p>\n",
       "</div>"
      ],
      "text/plain": [
       "     bill_length_mm  bill_depth_mm  flipper_length_mm  body_mass_g  MALE\n",
       "0              39.1           18.7              181.0       3750.0     1\n",
       "1              39.5           17.4              186.0       3800.0     0\n",
       "2              40.3           18.0              195.0       3250.0     0\n",
       "3              36.7           19.3              193.0       3450.0     0\n",
       "4              39.3           20.6              190.0       3650.0     1\n",
       "..              ...            ...                ...          ...   ...\n",
       "328            47.2           13.7              214.0       4925.0     0\n",
       "329            46.8           14.3              215.0       4850.0     0\n",
       "330            50.4           15.7              222.0       5750.0     1\n",
       "331            45.2           14.8              212.0       5200.0     0\n",
       "332            49.9           16.1              213.0       5400.0     1\n",
       "\n",
       "[333 rows x 5 columns]"
      ]
     },
     "execution_count": 52,
     "metadata": {},
     "output_type": "execute_result"
    }
   ],
   "source": [
    "x = penguins_subset.drop(columns = 'species', axis = 1)\n",
    "x"
   ]
  },
  {
   "cell_type": "markdown",
   "id": "a35c58e3",
   "metadata": {
    "id": "da3acdc9"
   },
   "source": [
    "Because k-means uses distance between observations as its measure of similarity, scaled all the features in `x` using `StandardScaler`. "
   ]
  },
  {
   "cell_type": "code",
   "execution_count": 53,
   "id": "01781db0",
   "metadata": {
    "id": "gJRWMdtgkT4g"
   },
   "outputs": [
    {
     "data": {
      "text/html": [
       "<div>\n",
       "<style scoped>\n",
       "    .dataframe tbody tr th:only-of-type {\n",
       "        vertical-align: middle;\n",
       "    }\n",
       "\n",
       "    .dataframe tbody tr th {\n",
       "        vertical-align: top;\n",
       "    }\n",
       "\n",
       "    .dataframe thead th {\n",
       "        text-align: right;\n",
       "    }\n",
       "</style>\n",
       "<table border=\"1\" class=\"dataframe\">\n",
       "  <thead>\n",
       "    <tr style=\"text-align: right;\">\n",
       "      <th></th>\n",
       "      <th>bill_length_mm</th>\n",
       "      <th>bill_depth_mm</th>\n",
       "      <th>flipper_length_mm</th>\n",
       "      <th>body_mass_g</th>\n",
       "      <th>MALE</th>\n",
       "    </tr>\n",
       "  </thead>\n",
       "  <tbody>\n",
       "    <tr>\n",
       "      <th>0</th>\n",
       "      <td>-0.896042</td>\n",
       "      <td>0.780732</td>\n",
       "      <td>-1.426752</td>\n",
       "      <td>-0.568475</td>\n",
       "      <td>0.991031</td>\n",
       "    </tr>\n",
       "    <tr>\n",
       "      <th>1</th>\n",
       "      <td>-0.822788</td>\n",
       "      <td>0.119584</td>\n",
       "      <td>-1.069474</td>\n",
       "      <td>-0.506286</td>\n",
       "      <td>-1.009050</td>\n",
       "    </tr>\n",
       "    <tr>\n",
       "      <th>2</th>\n",
       "      <td>-0.676280</td>\n",
       "      <td>0.424729</td>\n",
       "      <td>-0.426373</td>\n",
       "      <td>-1.190361</td>\n",
       "      <td>-1.009050</td>\n",
       "    </tr>\n",
       "    <tr>\n",
       "      <th>3</th>\n",
       "      <td>-1.335566</td>\n",
       "      <td>1.085877</td>\n",
       "      <td>-0.569284</td>\n",
       "      <td>-0.941606</td>\n",
       "      <td>-1.009050</td>\n",
       "    </tr>\n",
       "    <tr>\n",
       "      <th>4</th>\n",
       "      <td>-0.859415</td>\n",
       "      <td>1.747026</td>\n",
       "      <td>-0.783651</td>\n",
       "      <td>-0.692852</td>\n",
       "      <td>0.991031</td>\n",
       "    </tr>\n",
       "    <tr>\n",
       "      <th>...</th>\n",
       "      <td>...</td>\n",
       "      <td>...</td>\n",
       "      <td>...</td>\n",
       "      <td>...</td>\n",
       "      <td>...</td>\n",
       "    </tr>\n",
       "    <tr>\n",
       "      <th>328</th>\n",
       "      <td>0.587352</td>\n",
       "      <td>-1.762145</td>\n",
       "      <td>0.931283</td>\n",
       "      <td>0.892957</td>\n",
       "      <td>-1.009050</td>\n",
       "    </tr>\n",
       "    <tr>\n",
       "      <th>329</th>\n",
       "      <td>0.514098</td>\n",
       "      <td>-1.457000</td>\n",
       "      <td>1.002739</td>\n",
       "      <td>0.799674</td>\n",
       "      <td>-1.009050</td>\n",
       "    </tr>\n",
       "    <tr>\n",
       "      <th>330</th>\n",
       "      <td>1.173384</td>\n",
       "      <td>-0.744994</td>\n",
       "      <td>1.502928</td>\n",
       "      <td>1.919069</td>\n",
       "      <td>0.991031</td>\n",
       "    </tr>\n",
       "    <tr>\n",
       "      <th>331</th>\n",
       "      <td>0.221082</td>\n",
       "      <td>-1.202712</td>\n",
       "      <td>0.788372</td>\n",
       "      <td>1.234995</td>\n",
       "      <td>-1.009050</td>\n",
       "    </tr>\n",
       "    <tr>\n",
       "      <th>332</th>\n",
       "      <td>1.081817</td>\n",
       "      <td>-0.541564</td>\n",
       "      <td>0.859828</td>\n",
       "      <td>1.483749</td>\n",
       "      <td>0.991031</td>\n",
       "    </tr>\n",
       "  </tbody>\n",
       "</table>\n",
       "<p>333 rows × 5 columns</p>\n",
       "</div>"
      ],
      "text/plain": [
       "     bill_length_mm  bill_depth_mm  flipper_length_mm  body_mass_g      MALE\n",
       "0         -0.896042       0.780732          -1.426752    -0.568475  0.991031\n",
       "1         -0.822788       0.119584          -1.069474    -0.506286 -1.009050\n",
       "2         -0.676280       0.424729          -0.426373    -1.190361 -1.009050\n",
       "3         -1.335566       1.085877          -0.569284    -0.941606 -1.009050\n",
       "4         -0.859415       1.747026          -0.783651    -0.692852  0.991031\n",
       "..              ...            ...                ...          ...       ...\n",
       "328        0.587352      -1.762145           0.931283     0.892957 -1.009050\n",
       "329        0.514098      -1.457000           1.002739     0.799674 -1.009050\n",
       "330        1.173384      -0.744994           1.502928     1.919069  0.991031\n",
       "331        0.221082      -1.202712           0.788372     1.234995 -1.009050\n",
       "332        1.081817      -0.541564           0.859828     1.483749  0.991031\n",
       "\n",
       "[333 rows x 5 columns]"
      ]
     },
     "execution_count": 53,
     "metadata": {},
     "output_type": "execute_result"
    }
   ],
   "source": [
    "from sklearn.preprocessing import StandardScaler\n",
    "\n",
    "x = pd.DataFrame(StandardScaler().fit_transform(x), columns = x.columns)\n",
    "x"
   ]
  },
  {
   "cell_type": "markdown",
   "id": "b42cfbdb",
   "metadata": {
    "id": "15120a7e"
   },
   "source": [
    "Now, it was time to fit k-means model and evaluate inertia for different values of k. To do this, built a function called `best_k_finder` that takes in `k` (number of clusters) and `data` (scaled `x` dataset) and returns a list of inertia metrics for each value of k."
   ]
  },
  {
   "cell_type": "code",
   "execution_count": 54,
   "id": "e23c0f12",
   "metadata": {
    "id": "hCq5xkM0hw7n"
   },
   "outputs": [],
   "source": [
    "def best_k_finder(k, data):\n",
    "    inertias = []\n",
    "    for n in k:\n",
    "        kmeans = KMeans(n_clusters = n)\n",
    "        kmeans.fit(data)\n",
    "        inertias.append(kmeans.inertia_)\n",
    "    return inertias"
   ]
  },
  {
   "cell_type": "markdown",
   "id": "5468d3b7",
   "metadata": {
    "id": "21c96ecc"
   },
   "source": [
    "Used the `best_k_finder` function to return a list of inertias for values of k from 2 to 10."
   ]
  },
  {
   "cell_type": "code",
   "execution_count": 57,
   "id": "1bba738c",
   "metadata": {
    "id": "p7dWwBQih0dd"
   },
   "outputs": [
    {
     "data": {
      "text/plain": [
       "[885.6224143652249,\n",
       " 578.8284278107235,\n",
       " 386.14534424773285,\n",
       " 284.5464837898288,\n",
       " 217.92858573807678,\n",
       " 201.39287843423264,\n",
       " 185.461310432323,\n",
       " 173.74554250394394,\n",
       " 165.11904066313815]"
      ]
     },
     "execution_count": 57,
     "metadata": {},
     "output_type": "execute_result"
    }
   ],
   "source": [
    "inertias = best_k_finder(range(2,11), x)\n",
    "inertias"
   ]
  },
  {
   "cell_type": "markdown",
   "id": "be0a68b2",
   "metadata": {
    "id": "fa331d9a"
   },
   "source": [
    "Next, created a line plot that shows the relationship between `k` and `inertias`."
   ]
  },
  {
   "cell_type": "code",
   "execution_count": 66,
   "id": "8031313d",
   "metadata": {
    "id": "46yOZCg4h9a4"
   },
   "outputs": [
    {
     "data": {
      "text/plain": [
       "<matplotlib.axes._subplots.AxesSubplot at 0x75af7202c910>"
      ]
     },
     "execution_count": 66,
     "metadata": {},
     "output_type": "execute_result"
    },
    {
     "data": {
      "image/png": "[encoded data removed]",
      "text/plain": [
       "<Figure size 432x288 with 1 Axes>"
      ]
     },
     "metadata": {
      "needs_background": "light"
     },
     "output_type": "display_data"
    }
   ],
   "source": [
    "sns.lineplot(range(2,11), inertias, marker = 'o')"
   ]
  },
  {
   "cell_type": "markdown",
   "id": "2dbbd2c0",
   "metadata": {
    "id": "g-nPzhMPi_oQ"
   },
   "source": [
    "**Observation:** The plot seems to depict an elbow at 6 clusters (k = 6)."
   ]
  },
  {
   "cell_type": "markdown",
   "id": "1be0ff26",
   "metadata": {
    "id": "64e51814"
   },
   "source": [
    "Created a function called `best_sil_finder` that takes in `k` and `data` (scaled `x` dataset) and returns a list of each k-value's silhouette score."
   ]
  },
  {
   "cell_type": "code",
   "execution_count": 63,
   "id": "45e60b1e",
   "metadata": {
    "id": "nV9ul68GpUhK"
   },
   "outputs": [],
   "source": [
    "def best_sil_finder(k, data):\n",
    "    silhouettes = []\n",
    "    for n in k:\n",
    "        kmeans = KMeans(n_clusters = n)\n",
    "        kmeans.fit(data)\n",
    "        silhouettes.append(silhouette_score(data, kmeans.labels_))\n",
    "    return silhouettes"
   ]
  },
  {
   "cell_type": "markdown",
   "id": "81da028e",
   "metadata": {
    "id": "e3d3c989"
   },
   "source": [
    "Applied the function to obtain silhouette scores for every value of k from 2 to 10. "
   ]
  },
  {
   "cell_type": "code",
   "execution_count": 67,
   "id": "da491f32",
   "metadata": {
    "id": "IyhBJ8qXpbxz"
   },
   "outputs": [
    {
     "data": {
      "text/plain": [
       "[0.44398088353055243,\n",
       " 0.45101024097188364,\n",
       " 0.5080140996630784,\n",
       " 0.519998574860868,\n",
       " 0.5263224884981607,\n",
       " 0.47774022332151733,\n",
       " 0.42680523270292947,\n",
       " 0.3605641143153135,\n",
       " 0.3498962127355556]"
      ]
     },
     "execution_count": 67,
     "metadata": {},
     "output_type": "execute_result"
    }
   ],
   "source": [
    "silhouettes = best_sil_finder(range(2,11), x)\n",
    "silhouettes"
   ]
  },
  {
   "cell_type": "markdown",
   "id": "fe4287b4",
   "metadata": {},
   "source": [
    "Next, created a line plot that shows the relationship between each `k` and `silhouettes`."
   ]
  },
  {
   "cell_type": "code",
   "execution_count": 68,
   "id": "ab1ffedb",
   "metadata": {},
   "outputs": [
    {
     "data": {
      "text/plain": [
       "<matplotlib.axes._subplots.AxesSubplot at 0x75af71fad5d0>"
      ]
     },
     "execution_count": 68,
     "metadata": {},
     "output_type": "execute_result"
    },
    {
     "data": {
      "image/png": "[encoded data removed]",
      "text/plain": [
       "<Figure size 432x288 with 1 Axes>"
      ]
     },
     "metadata": {
      "needs_background": "light"
     },
     "output_type": "display_data"
    }
   ],
   "source": [
    "sns.lineplot(range(2,11), silhouettes, marker = 'o')"
   ]
  },
  {
   "cell_type": "markdown",
   "id": "654d7942",
   "metadata": {
    "id": "5262b500"
   },
   "source": [
    "**Observation:** The plot indicates that the silhouette score is closest to 1 when the data is partitioned into 6 clusters, although five clusters also yield a relatively good silhouette score."
   ]
  },
  {
   "cell_type": "markdown",
   "id": "6ac56b8a",
   "metadata": {
    "id": "7vQnmULGE69B"
   },
   "source": [
    "To decide on an optimal k-value, fitted a 6-cluster model to the dataset. "
   ]
  },
  {
   "cell_type": "code",
   "execution_count": 69,
   "id": "3d7c50b5",
   "metadata": {
    "id": "tZhr41e6MXxo"
   },
   "outputs": [
    {
     "data": {
      "text/plain": [
       "KMeans(algorithm='auto', copy_x=True, init='k-means++', max_iter=300,\n",
       "       n_clusters=6, n_init=10, n_jobs=None, precompute_distances='auto',\n",
       "       random_state=None, tol=0.0001, verbose=0)"
      ]
     },
     "execution_count": 69,
     "metadata": {},
     "output_type": "execute_result"
    }
   ],
   "source": [
    "kmeans = KMeans(n_clusters = 6)\n",
    "kmeans.fit(x)"
   ]
  },
  {
   "cell_type": "markdown",
   "id": "ad1a6535",
   "metadata": {
    "id": "49f834ec"
   },
   "source": [
    "Printed out the unique labels of the fitted model."
   ]
  },
  {
   "cell_type": "code",
   "execution_count": 71,
   "id": "b6415f12",
   "metadata": {
    "id": "mLB6AyhWMX54"
   },
   "outputs": [
    {
     "data": {
      "text/plain": [
       "array([0, 1, 2, 3, 4, 5], dtype=int32)"
      ]
     },
     "execution_count": 71,
     "metadata": {},
     "output_type": "execute_result"
    }
   ],
   "source": [
    "np.unique(kmeans.labels_)"
   ]
  },
  {
   "cell_type": "markdown",
   "id": "8c943a94",
   "metadata": {
    "id": "080d87e3"
   },
   "source": [
    "Now, created a new column `cluster` that indicates cluster assignment in the DataFrame `penguins_subset` in order to understand the meaning of each cluster's labels."
   ]
  },
  {
   "cell_type": "code",
   "execution_count": 72,
   "id": "ec05457f",
   "metadata": {
    "id": "oxS6EJvZM1Ab"
   },
   "outputs": [
    {
     "data": {
      "text/html": [
       "<div>\n",
       "<style scoped>\n",
       "    .dataframe tbody tr th:only-of-type {\n",
       "        vertical-align: middle;\n",
       "    }\n",
       "\n",
       "    .dataframe tbody tr th {\n",
       "        vertical-align: top;\n",
       "    }\n",
       "\n",
       "    .dataframe thead th {\n",
       "        text-align: right;\n",
       "    }\n",
       "</style>\n",
       "<table border=\"1\" class=\"dataframe\">\n",
       "  <thead>\n",
       "    <tr style=\"text-align: right;\">\n",
       "      <th></th>\n",
       "      <th>species</th>\n",
       "      <th>bill_length_mm</th>\n",
       "      <th>bill_depth_mm</th>\n",
       "      <th>flipper_length_mm</th>\n",
       "      <th>body_mass_g</th>\n",
       "      <th>MALE</th>\n",
       "      <th>cluster</th>\n",
       "    </tr>\n",
       "  </thead>\n",
       "  <tbody>\n",
       "    <tr>\n",
       "      <th>0</th>\n",
       "      <td>Adelie</td>\n",
       "      <td>39.1</td>\n",
       "      <td>18.7</td>\n",
       "      <td>181.0</td>\n",
       "      <td>3750.0</td>\n",
       "      <td>1</td>\n",
       "      <td>2</td>\n",
       "    </tr>\n",
       "    <tr>\n",
       "      <th>1</th>\n",
       "      <td>Adelie</td>\n",
       "      <td>39.5</td>\n",
       "      <td>17.4</td>\n",
       "      <td>186.0</td>\n",
       "      <td>3800.0</td>\n",
       "      <td>0</td>\n",
       "      <td>4</td>\n",
       "    </tr>\n",
       "    <tr>\n",
       "      <th>2</th>\n",
       "      <td>Adelie</td>\n",
       "      <td>40.3</td>\n",
       "      <td>18.0</td>\n",
       "      <td>195.0</td>\n",
       "      <td>3250.0</td>\n",
       "      <td>0</td>\n",
       "      <td>4</td>\n",
       "    </tr>\n",
       "    <tr>\n",
       "      <th>3</th>\n",
       "      <td>Adelie</td>\n",
       "      <td>36.7</td>\n",
       "      <td>19.3</td>\n",
       "      <td>193.0</td>\n",
       "      <td>3450.0</td>\n",
       "      <td>0</td>\n",
       "      <td>4</td>\n",
       "    </tr>\n",
       "    <tr>\n",
       "      <th>4</th>\n",
       "      <td>Adelie</td>\n",
       "      <td>39.3</td>\n",
       "      <td>20.6</td>\n",
       "      <td>190.0</td>\n",
       "      <td>3650.0</td>\n",
       "      <td>1</td>\n",
       "      <td>2</td>\n",
       "    </tr>\n",
       "    <tr>\n",
       "      <th>...</th>\n",
       "      <td>...</td>\n",
       "      <td>...</td>\n",
       "      <td>...</td>\n",
       "      <td>...</td>\n",
       "      <td>...</td>\n",
       "      <td>...</td>\n",
       "      <td>...</td>\n",
       "    </tr>\n",
       "    <tr>\n",
       "      <th>328</th>\n",
       "      <td>Gentoo</td>\n",
       "      <td>47.2</td>\n",
       "      <td>13.7</td>\n",
       "      <td>214.0</td>\n",
       "      <td>4925.0</td>\n",
       "      <td>0</td>\n",
       "      <td>3</td>\n",
       "    </tr>\n",
       "    <tr>\n",
       "      <th>329</th>\n",
       "      <td>Gentoo</td>\n",
       "      <td>46.8</td>\n",
       "      <td>14.3</td>\n",
       "      <td>215.0</td>\n",
       "      <td>4850.0</td>\n",
       "      <td>0</td>\n",
       "      <td>3</td>\n",
       "    </tr>\n",
       "    <tr>\n",
       "      <th>330</th>\n",
       "      <td>Gentoo</td>\n",
       "      <td>50.4</td>\n",
       "      <td>15.7</td>\n",
       "      <td>222.0</td>\n",
       "      <td>5750.0</td>\n",
       "      <td>1</td>\n",
       "      <td>1</td>\n",
       "    </tr>\n",
       "    <tr>\n",
       "      <th>331</th>\n",
       "      <td>Gentoo</td>\n",
       "      <td>45.2</td>\n",
       "      <td>14.8</td>\n",
       "      <td>212.0</td>\n",
       "      <td>5200.0</td>\n",
       "      <td>0</td>\n",
       "      <td>3</td>\n",
       "    </tr>\n",
       "    <tr>\n",
       "      <th>332</th>\n",
       "      <td>Gentoo</td>\n",
       "      <td>49.9</td>\n",
       "      <td>16.1</td>\n",
       "      <td>213.0</td>\n",
       "      <td>5400.0</td>\n",
       "      <td>1</td>\n",
       "      <td>1</td>\n",
       "    </tr>\n",
       "  </tbody>\n",
       "</table>\n",
       "<p>333 rows × 7 columns</p>\n",
       "</div>"
      ],
      "text/plain": [
       "    species  bill_length_mm  bill_depth_mm  flipper_length_mm  body_mass_g  \\\n",
       "0    Adelie            39.1           18.7              181.0       3750.0   \n",
       "1    Adelie            39.5           17.4              186.0       3800.0   \n",
       "2    Adelie            40.3           18.0              195.0       3250.0   \n",
       "3    Adelie            36.7           19.3              193.0       3450.0   \n",
       "4    Adelie            39.3           20.6              190.0       3650.0   \n",
       "..      ...             ...            ...                ...          ...   \n",
       "328  Gentoo            47.2           13.7              214.0       4925.0   \n",
       "329  Gentoo            46.8           14.3              215.0       4850.0   \n",
       "330  Gentoo            50.4           15.7              222.0       5750.0   \n",
       "331  Gentoo            45.2           14.8              212.0       5200.0   \n",
       "332  Gentoo            49.9           16.1              213.0       5400.0   \n",
       "\n",
       "     MALE  cluster  \n",
       "0       1        2  \n",
       "1       0        4  \n",
       "2       0        4  \n",
       "3       0        4  \n",
       "4       1        2  \n",
       "..    ...      ...  \n",
       "328     0        3  \n",
       "329     0        3  \n",
       "330     1        1  \n",
       "331     0        3  \n",
       "332     1        1  \n",
       "\n",
       "[333 rows x 7 columns]"
      ]
     },
     "execution_count": 72,
     "metadata": {},
     "output_type": "execute_result"
    }
   ],
   "source": [
    "penguins_subset['cluster'] = kmeans.labels_\n",
    "\n",
    "penguins_subset"
   ]
  },
  {
   "cell_type": "markdown",
   "id": "23e8c441",
   "metadata": {
    "id": "0c3fe6a3"
   },
   "source": [
    "Used `groupby` to verify if any `cluster` can be differentiated by `species`."
   ]
  },
  {
   "cell_type": "code",
   "execution_count": 76,
   "id": "6f84da55",
   "metadata": {
    "id": "051b144d"
   },
   "outputs": [
    {
     "data": {
      "text/plain": [
       "cluster  species  \n",
       "0        Chinstrap    29\n",
       "1        Gentoo       61\n",
       "2        Adelie       70\n",
       "3        Gentoo       58\n",
       "4        Adelie       73\n",
       "         Chinstrap     5\n",
       "5        Adelie        3\n",
       "         Chinstrap    34\n",
       "dtype: int64"
      ]
     },
     "execution_count": 76,
     "metadata": {},
     "output_type": "execute_result"
    }
   ],
   "source": [
    "penguins_subset.groupby(['cluster', 'species']).size()"
   ]
  },
  {
   "cell_type": "markdown",
   "id": "d2042b17",
   "metadata": {
    "id": "QACZiuWYM59u"
   },
   "source": [
    "Although the results of grouping show that each `cluster` can be differentiated by `species`, interpreted the outputs through visualization."
   ]
  },
  {
   "cell_type": "code",
   "execution_count": 77,
   "id": "608c8f25",
   "metadata": {
    "colab": {
     "base_uri": "https://localhost:8080/",
     "height": 408
    },
    "executionInfo": {
     "elapsed": 500,
     "status": "ok",
     "timestamp": 1659750070101,
     "user": {
      "displayName": "Gracen Hanley",
      "userId": "14517815644308397440"
     },
     "user_tz": 420
    },
    "id": "ScRX4uWfNqo6",
    "outputId": "ea55e742-e819-49b4-da79-ddb9adf0a398"
   },
   "outputs": [
    {
     "data": {
      "image/png": "[encoded data removed]",
      "text/plain": [
       "<Figure size 432x360 with 1 Axes>"
      ]
     },
     "metadata": {
      "needs_background": "light"
     },
     "output_type": "display_data"
    }
   ],
   "source": [
    "penguins_subset.groupby(by = ['cluster', 'species']).size().plot.bar(title = 'Clusters differentiated by species',\n",
    "                                                                   figsize = (6, 5),\n",
    "                                                                   ylabel = 'Size',\n",
    "                                                                   xlabel = '(Cluster, Species)')"
   ]
  },
  {
   "cell_type": "markdown",
   "id": "2c34625f",
   "metadata": {},
   "source": [
    "**Observation:** The graph shows that each `cluster` can be differentiated by `species`."
   ]
  },
  {
   "cell_type": "markdown",
   "id": "5bbe4620",
   "metadata": {
    "id": "f1b82368"
   },
   "source": [
    "Used `groupby` to verify if each `cluster` can be differentiated by `species` and `sex_MALE` as well."
   ]
  },
  {
   "cell_type": "code",
   "execution_count": 86,
   "id": "b3e0a8ca",
   "metadata": {
    "id": "2cf5adc2"
   },
   "outputs": [
    {
     "data": {
      "text/plain": [
       "cluster  species    MALE\n",
       "5        Adelie     1        3\n",
       "4        Chinstrap  0        5\n",
       "0        Chinstrap  0       29\n",
       "5        Chinstrap  1       34\n",
       "3        Gentoo     0       58\n",
       "1        Gentoo     1       61\n",
       "2        Adelie     1       70\n",
       "4        Adelie     0       73\n",
       "dtype: int64"
      ]
     },
     "execution_count": 86,
     "metadata": {},
     "output_type": "execute_result"
    }
   ],
   "source": [
    "penguins_subset.groupby(['cluster', 'species', 'MALE']).size().sort_values()"
   ]
  },
  {
   "cell_type": "markdown",
   "id": "e6626394",
   "metadata": {
    "id": "ae471434"
   },
   "source": [
    "**Observation:** Even though clusters 0, 1 and 3 aren't all of one `species` or `sex`, the grouping indicates that the algorithm produced clusters mostly differentiated by `species` and `sex`."
   ]
  },
  {
   "cell_type": "markdown",
   "id": "1e4a6fd7",
   "metadata": {
    "id": "c9dSiWNNcdZH"
   },
   "source": [
    "Finally, visualized the resent grouping results."
   ]
  },
  {
   "cell_type": "code",
   "execution_count": 82,
   "id": "82e8dba6",
   "metadata": {
    "colab": {
     "base_uri": "https://localhost:8080/",
     "height": 383
    },
    "executionInfo": {
     "elapsed": 649,
     "status": "ok",
     "timestamp": 1659750070746,
     "user": {
      "displayName": "Gracen Hanley",
      "userId": "14517815644308397440"
     },
     "user_tz": 420
    },
    "id": "Xw-g03su8_4Z",
    "outputId": "10c8fe4e-8cfd-4963-f535-7d6029e4d4af"
   },
   "outputs": [
    {
     "data": {
      "text/plain": [
       "<matplotlib.legend.Legend at 0x75af7191b310>"
      ]
     },
     "execution_count": 82,
     "metadata": {},
     "output_type": "execute_result"
    },
    {
     "data": {
      "image/png": "[encoded data removed]",
      "text/plain": [
       "<Figure size 432x360 with 1 Axes>"
      ]
     },
     "metadata": {
      "needs_background": "light"
     },
     "output_type": "display_data"
    }
   ],
   "source": [
    "penguins_subset.groupby(by = \n",
    "                        ['cluster','species','MALE']).size().unstack(level = \n",
    "                                                                     'species', fill_value = 0).plot.bar(\n",
    "    title = 'Clusters differentiated by species and sex', figsize = (6, 5), ylabel = 'Size', \n",
    "    xlabel = '(Cluster, Sex)')\n",
    "\n",
    "plt.legend(bbox_to_anchor=(1.3, 1.0))"
   ]
  },
  {
   "cell_type": "markdown",
   "id": "bb63d7bf",
   "metadata": {},
   "source": [
    "**Observation:** The graph shows that each `cluster` can be differentiated by `species` and `sex_MALE`. Furthermore, each cluster is mostly comprised of one `sex` and one `species`."
   ]
  },
  {
   "cell_type": "markdown",
   "id": "f606cb7a",
   "metadata": {
    "id": "4DRcgiMgM1HP"
   },
   "source": [
    "**Summary:**\n",
    "\n",
    "* Having 6 clusters makes sense because the study suggests that there is sexual dimorphism (differences between the sexes) for each of the three species (2 sexes * 3 different species = 6 clusters).\n",
    "* The k-means clustering enabled this data to be effectively grouped, it helped identify patterns that can educate team members about penguins.\n",
    "* The success of the cluster results suggests that the organization can apply clustering to other projects and continue augmenting employee education."
   ]
  },
  {
   "cell_type": "markdown",
   "id": "5f884a3a",
   "metadata": {},
   "source": [
    "### Acknowledgment"
   ]
  },
  {
   "cell_type": "markdown",
   "id": "3d930e2b",
   "metadata": {},
   "source": [
    "I would like to express gratitude to Google and Coursera for supporting the educational process and providing the opportunity to refine and showcase skills acquired during the courses by completing real-life scenario portfolio projects, such as this."
   ]
  },
  {
   "cell_type": "markdown",
   "id": "e609c75b",
   "metadata": {},
   "source": [
    "### Reference"
   ]
  },
  {
   "cell_type": "markdown",
   "id": "723f2a19",
   "metadata": {},
   "source": [
    "This is a workplace scenario project proposed within the syllabus of Google Advanced Data Analytics Professional Certificate on Coursera."
   ]
  }
 ],
 "metadata": {
  "colab": {
   "collapsed_sections": [],
   "provenance": [],
   "toc_visible": true
  },
  "gpuClass": "standard",
  "kernelspec": {
   "display_name": "Python 3 (ipykernel)",
   "language": "python",
   "name": "python3"
  },
  "language_info": {
   "codemirror_mode": {
    "name": "ipython",
    "version": 3
   },
   "file_extension": ".py",
   "mimetype": "text/x-python",
   "name": "python",
   "nbconvert_exporter": "python",
   "pygments_lexer": "ipython3",
   "version": "3.11.5"
  }
 },
 "nbformat": 4,
 "nbformat_minor": 5
}
